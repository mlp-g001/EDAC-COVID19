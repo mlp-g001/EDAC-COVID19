{
 "cells": [
  {
   "attachments": {},
   "cell_type": "markdown",
   "id": "00d6264b-e1cd-4a56-b681-557a8a91b741",
   "metadata": {},
   "source": [
    "## Coswara data extraction notebook\n",
    "This notebook is used to separate negative and positive recording instances into different folders for ease of processing.\n",
    "\n",
    "Negative and positive instances are distinguished using the `combined_data.csv` file containing the metadata for the recordings. The target value is chosen to be the `covid_status` columb, which corresponds to the self-declared Covid status of the participant.\n",
    "\n",
    "The `covid_status` columb values were grouped to form the negative and positive labels in the following manner:\n",
    "* **Positive**\n",
    "    * `positive_mild`\n",
    "    * `positive_moderate`\n",
    "    * `positive_asymp`\n",
    "* **Negative**\n",
    "    * `healthy`\n",
    "    * `no_resp_illness_exposed`\n",
    "    * `resp_illness_not_identified`\n",
    "    * `recovered_full`"
   ]
  },
  {
   "cell_type": "code",
   "execution_count": null,
   "id": "92aa4095-0e1f-4f16-8b90-d61ec22a1446",
   "metadata": {},
   "outputs": [],
   "source": [
    "import os\n",
    "import glob\n",
    "import shutil\n",
    "from tqdm import tqdm\n",
    "import pandas as pd\n",
    "from pathlib import Path\n",
    "from typing import Union, List"
   ]
  },
  {
   "cell_type": "code",
   "execution_count": null,
   "id": "cdda2170-e660-49db-8654-6f738037d23b",
   "metadata": {},
   "outputs": [],
   "source": [
    "# Path to Extraced_data folder\n",
    "data_dir = '../../../Coswara-Data/'\n",
    "extracted_data_dir = 'Extracted_data'"
   ]
  },
  {
   "cell_type": "code",
   "execution_count": null,
   "id": "1b71745a-b272-4b05-a777-6757249126d7",
   "metadata": {},
   "outputs": [],
   "source": [
    "# Get cough paths\n",
    "suffix = 'shallow'\n",
    "recording_regex = fr'202*/*/cough-{suffix}.wav'\n",
    "search_path = os.path.join(data_dir, extracted_data_dir, recording_regex)\n",
    "paths = glob.glob(search_path)\n",
    "len(paths)"
   ]
  },
  {
   "cell_type": "code",
   "execution_count": null,
   "id": "4513c759-1f1f-4223-bd88-e651296bc9b1",
   "metadata": {},
   "outputs": [],
   "source": [
    "# Sanity check for correct files gathered\n",
    "paths[0]"
   ]
  },
  {
   "cell_type": "markdown",
   "id": "b39924bb-23a8-45ab-aaa0-d4811db0a094",
   "metadata": {
    "tags": []
   },
   "source": [
    "### Move positive and negative files to separate folders"
   ]
  },
  {
   "cell_type": "code",
   "execution_count": null,
   "id": "467dfd72-c603-47ea-a579-50677896f04e",
   "metadata": {},
   "outputs": [],
   "source": [
    "def mkdir(path:Union[str, Path]):\n",
    "    if not os.path.exists(path):\n",
    "        os.makedirs(path)"
   ]
  },
  {
   "cell_type": "code",
   "execution_count": null,
   "id": "50b87beb-4b4e-416e-8606-7cd22612f2cf",
   "metadata": {},
   "outputs": [],
   "source": [
    "# Create folders for files\n",
    "n_dir = os.path.join(data_dir, 'data', suffix, 'n')\n",
    "p_dir = os.path.join(data_dir, 'data', suffix, 'p')\n",
    "mkdir(n_dir)\n",
    "mkdir(p_dir)"
   ]
  },
  {
   "cell_type": "code",
   "execution_count": null,
   "id": "71a10cd4-5695-4f61-9d53-18a2703a3030",
   "metadata": {},
   "outputs": [],
   "source": [
    "# Read metadata\n",
    "meta_data_path = os.path.join(data_dir, 'combined_data.csv')\n",
    "meta_data = pd.read_csv(meta_data_path)"
   ]
  },
  {
   "cell_type": "code",
   "execution_count": null,
   "id": "2d61089a-f562-4bdb-9952-b21c748359b9",
   "metadata": {},
   "outputs": [],
   "source": [
    "ids_list = list(map(lambda x: x.split('/')[-2], paths))\n",
    "len(ids_list)"
   ]
  },
  {
   "cell_type": "code",
   "execution_count": null,
   "id": "ec1e3b96-2f01-433b-9bdb-91054203bee1",
   "metadata": {},
   "outputs": [],
   "source": [
    "print(meta_data.covid_status.unique())"
   ]
  },
  {
   "cell_type": "code",
   "execution_count": null,
   "id": "faec697c-3ecb-42dc-9f68-9d9209291b18",
   "metadata": {},
   "outputs": [],
   "source": [
    "id_mask = meta_data.id.isin(ids_list)\n",
    "covid_status = meta_data[id_mask].covid_status\n",
    "covid_status.value_counts()"
   ]
  },
  {
   "cell_type": "markdown",
   "id": "59985e50-b029-49af-9f48-bbb6c36cfcd3",
   "metadata": {},
   "source": [
    "id_mask = meta_data.id.isin(ids_list)\n",
    "test_status = meta_data[id_mask].test_status\n",
    "test_status.value_counts()"
   ]
  },
  {
   "cell_type": "markdown",
   "id": "e9022b72-83f1-4b6e-8517-5654085f8711",
   "metadata": {},
   "source": [
    "n_ids = meta_data[meta_data.test_status == 'n'].id.to_list()\n",
    "p_ids = meta_data[meta_data.test_status == 'p'].id.to_list()\n",
    "len(n_ids), len(p_ids)"
   ]
  },
  {
   "cell_type": "code",
   "execution_count": null,
   "id": "e4cf830c-fa1e-4a5f-b0f9-dd9b52a56859",
   "metadata": {},
   "outputs": [],
   "source": [
    "n_mask = meta_data.covid_status.isin(['healthy', 'no_resp_illness_exposed', 'resp_illness_not_identified', 'recovered_full'])\n",
    "p_mask = meta_data.covid_status.isin(['positive_mild', 'positive_moderate', 'positive_asymp'])\n",
    "n_ids = meta_data[n_mask].id.to_list()\n",
    "p_ids = meta_data[p_mask].id.to_list()\n",
    "len(n_ids), len(p_ids)"
   ]
  },
  {
   "cell_type": "code",
   "execution_count": null,
   "id": "48c7b24d-404f-4a3f-929c-be748ea9265d",
   "metadata": {},
   "outputs": [],
   "source": [
    "# Map id to path\n",
    "id_path_map = dict()\n",
    "for path in paths:\n",
    "    rec_id = path.split('/')[-2]\n",
    "    if rec_id in id_path_map:\n",
    "        print(f'Duplicate id :: {rec_id}')\n",
    "        continue\n",
    "        \n",
    "    id_path_map[rec_id] = path"
   ]
  },
  {
   "cell_type": "code",
   "execution_count": null,
   "id": "f9efd468-79df-44c2-b2f4-a7025eea45c3",
   "metadata": {},
   "outputs": [],
   "source": [
    "def move_recordings(ids:List[str],\n",
    "                    id_path_map:dict[str, Union[str, Path]],\n",
    "                    target_dir:Union[str, Path],\n",
    "                    rec_format:str='.wav'):\n",
    "\n",
    "    for rec_id in tqdm(ids):\n",
    "        if rec_id not in id_path_map: continue\n",
    "        \n",
    "        old_path = id_path_map[rec_id]\n",
    "        file_name = f'{rec_id}{rec_format}'\n",
    "        new_path = os.path.join(target_dir, file_name)\n",
    "        shutil.copy(old_path, new_path)"
   ]
  },
  {
   "cell_type": "code",
   "execution_count": null,
   "id": "e314d8d1-b839-4fac-ae2c-a47c0ee9ed9e",
   "metadata": {},
   "outputs": [],
   "source": [
    "move_recordings(n_ids, id_path_map, n_dir)\n",
    "move_recordings(p_ids, id_path_map, p_dir)"
   ]
  },
  {
   "cell_type": "markdown",
   "id": "14a6debb-f3ae-4340-ae03-79bb5161c3f6",
   "metadata": {},
   "source": [
    "### Extract metadata for recordings"
   ]
  },
  {
   "cell_type": "code",
   "execution_count": null,
   "id": "ed653e2c-a192-4604-b8cb-0b83705c41b0",
   "metadata": {},
   "outputs": [],
   "source": [
    "n_id_mask = meta_data.id.isin(n_ids)\n",
    "p_id_mask = meta_data.id.isin(p_ids)\n",
    "np_meta_data = meta_data[p_id_mask | n_id_mask]\n",
    "np_meta_data_path = os.path.join(data_dir, 'data', suffix, 'meta_data.csv')\n",
    "np_meta_data.to_csv(np_meta_data_path, index=False)"
   ]
  }
 ],
 "metadata": {
  "kernelspec": {
   "display_name": "Python 3 (ipykernel)",
   "language": "python",
   "name": "python3"
  },
  "language_info": {
   "codemirror_mode": {
    "name": "ipython",
    "version": 3
   },
   "file_extension": ".py",
   "mimetype": "text/x-python",
   "name": "python",
   "nbconvert_exporter": "python",
   "pygments_lexer": "ipython3",
   "version": "3.9.13"
  }
 },
 "nbformat": 4,
 "nbformat_minor": 5
}
