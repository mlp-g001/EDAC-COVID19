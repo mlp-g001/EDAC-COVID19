{
 "cells": [
  {
   "attachments": {},
   "cell_type": "markdown",
   "id": "ecf19039-ea08-4b23-b1ca-59cae1cfb315",
   "metadata": {},
   "source": [
    "# Visualisations of Brogrammers (CNN) Model results"
   ]
  },
  {
   "cell_type": "code",
   "execution_count": null,
   "id": "1f30e23e-ff8d-4ebb-b2cc-a4876cb9315c",
   "metadata": {
    "tags": []
   },
   "outputs": [],
   "source": [
    "import matplotlib.pyplot as plt\n",
    "import seaborn as sns\n",
    "import json\n",
    "from pathlib import Path\n",
    "import os\n",
    "import numpy as np\n",
    "sns.set_style(\"darkgrid\")\n",
    "sns.set_theme(\"paper\")"
   ]
  },
  {
   "cell_type": "markdown",
   "id": "b9b8c05a-2144-4695-9ac2-daaafa96525b",
   "metadata": {},
   "source": [
    "## Load Results from File"
   ]
  },
  {
   "cell_type": "code",
   "execution_count": null,
   "id": "8816cf7c-1dbe-4fee-b973-42ba4bcca56c",
   "metadata": {
    "tags": []
   },
   "outputs": [],
   "source": [
    "POLYN_DECAY_RES_PATH = os.path.join(Path(os.path.abspath(\"\")), \"brogrammers_polynomial_decay_results.json\")\n",
    "print(POLYN_DECAY_RES_PATH)\n",
    "with open(POLYN_DECAY_RES_PATH) as f:\n",
    "    poly_results_temp = json.load(f)"
   ]
  },
  {
   "cell_type": "code",
   "execution_count": null,
   "id": "d462a4e0-9b69-4081-bf3f-71aa7ee0c049",
   "metadata": {
    "tags": []
   },
   "outputs": [],
   "source": [
    "CONST_DECAY_RES_PATH = os.path.join(Path(os.path.abspath(\"\")), \"brogrammers_const_sparsity_results.json\")\n",
    "print(CONST_DECAY_RES_PATH)\n",
    "with open(CONST_DECAY_RES_PATH) as f:\n",
    "    const_res_temp = json.load(f)"
   ]
  },
  {
   "cell_type": "markdown",
   "id": "418b36d6-4bb6-4252-831f-c05ac45168d4",
   "metadata": {},
   "source": [
    "## Order Results into Dicts"
   ]
  },
  {
   "cell_type": "code",
   "execution_count": null,
   "id": "c951e7c3-ea8e-4e05-9d1b-0118f98910d8",
   "metadata": {
    "tags": []
   },
   "outputs": [],
   "source": [
    "pruning_percentages =[]\n",
    "const_results = {\"default\": {\"aucs\":[], \"inf_time\": [], \"size\": []},\n",
    "           \"int8\": {\"aucs\":[], \"inf_time\": [], \"size\": []},\n",
    "           \"float16\": {\"aucs\":[], \"inf_time\": [], \"size\": []}\n",
    "}\n",
    "\n",
    "sorted_results = dict()\n",
    "\n",
    "for key in sorted(const_res_temp):\n",
    "    sorted_results[key] = const_res_temp[key]\n",
    "\n",
    "for percentage, result in sorted_results.items():\n",
    "    pruning_percentages.append(float(percentage))\n",
    "    \n",
    "    const_results[\"default\"][\"aucs\"].append(float(result[\"default\"][\"auc\"]))\n",
    "    const_results[\"default\"][\"inf_time\"].append(float(result[\"default\"][\"inf_time\"]))\n",
    "    const_results[\"default\"][\"size\"].append(float(result[\"default\"][\"size\"]))\n",
    "    \n",
    "    const_results[\"int8\"][\"aucs\"].append(float(result[\"int8\"][\"auc\"]))\n",
    "    const_results[\"int8\"][\"inf_time\"].append(float(result[\"int8\"][\"inf_time\"]))\n",
    "    const_results[\"int8\"][\"size\"].append(float(result[\"int8\"][\"size\"]))\n",
    "    \n",
    "    const_results[\"float16\"][\"aucs\"].append(float(result[\"float16\"][\"auc\"]))\n",
    "    const_results[\"float16\"][\"inf_time\"].append(float(result[\"float16\"][\"inf_time\"]))\n",
    "    const_results[\"float16\"][\"size\"].append(float(result[\"float16\"][\"size\"]))\n",
    "pruning_percentages = np.array(pruning_percentages) * 100"
   ]
  },
  {
   "cell_type": "code",
   "execution_count": null,
   "id": "ad148672-70c4-4a99-a1d4-ac00cff37a42",
   "metadata": {
    "tags": []
   },
   "outputs": [],
   "source": [
    "poly_results = {\"default\": {\"aucs\":[], \"inf_time\": [], \"size\": []},\n",
    "           \"int8\": {\"aucs\":[], \"inf_time\": [], \"size\": []},\n",
    "           \"float16\": {\"aucs\":[], \"inf_time\": [], \"size\": []}\n",
    "}\n",
    "\n",
    "sorted_results = dict()\n",
    "\n",
    "for key in sorted(poly_results_temp):\n",
    "    sorted_results[key] = poly_results_temp[key]\n",
    "\n",
    "for percentage, result in sorted_results.items():    \n",
    "    poly_results[\"default\"][\"aucs\"].append(float(result[\"default\"][\"auc\"]))\n",
    "    poly_results[\"default\"][\"inf_time\"].append(float(result[\"default\"][\"inf_time\"]))\n",
    "    poly_results[\"default\"][\"size\"].append(float(result[\"default\"][\"size\"]))\n",
    "    \n",
    "    poly_results[\"int8\"][\"aucs\"].append(float(result[\"int8\"][\"auc\"]))\n",
    "    poly_results[\"int8\"][\"inf_time\"].append(float(result[\"int8\"][\"inf_time\"]))\n",
    "    poly_results[\"int8\"][\"size\"].append(float(result[\"int8\"][\"size\"]))\n",
    "    \n",
    "    poly_results[\"float16\"][\"aucs\"].append(float(result[\"float16\"][\"auc\"]))\n",
    "    poly_results[\"float16\"][\"inf_time\"].append(float(result[\"float16\"][\"inf_time\"]))\n",
    "    poly_results[\"float16\"][\"size\"].append(float(result[\"float16\"][\"size\"]))"
   ]
  },
  {
   "cell_type": "markdown",
   "id": "a7d90249-a3d8-49ee-9516-e9986c9d2994",
   "metadata": {},
   "source": [
    "## Visualisations"
   ]
  },
  {
   "cell_type": "code",
   "execution_count": null,
   "id": "6dd14d86-f4ff-4625-b7e1-d5464bafb019",
   "metadata": {
    "tags": []
   },
   "outputs": [],
   "source": [
    "fig, (ax1, ax2, ax3) = plt.subplots(1,3, sharex= True, figsize=(12,3))\n",
    "\n",
    "print(pruning_percentages)\n",
    "const_aucs = ax1.plot(pruning_percentages, const_results[\"default\"][\"aucs\"])\n",
    "poly_aucs = ax1.plot(pruning_percentages, poly_results[\"default\"][\"aucs\"])\n",
    "ax1.set_ylim([0,1])\n",
    "ax1.set_ylabel(\"AUC Score\")\n",
    "ax1.legend([const_aucs, poly_aucs], labels = [\"Const.\", \"Poly. Decay\"])\n",
    "\n",
    "const_sizes = ax2.plot(pruning_percentages, const_results[\"default\"][\"size\"])\n",
    "poly_sizes = ax2.plot(pruning_percentages, poly_results[\"default\"][\"size\"])\n",
    "ax2.set_ylabel(\"Gzipped Model Size (MB)\")\n",
    "ax2.legend([const_sizes, poly_sizes], labels = [\"Const.\", \"Poly. Decay\"])\n",
    "\n",
    "\n",
    "const_inf = ax3.plot(pruning_percentages, np.array(const_results[\"default\"][\"inf_time\"])*1000)\n",
    "poly_inf = ax3.plot(pruning_percentages, np.array(poly_results[\"default\"][\"inf_time\"])*1000)\n",
    "ax3.legend([const_inf, poly_inf], labels = [\"Const.\", \"Poly. Decay\"])\n",
    "ax3.set_ylabel(\"Inference Time (ms)\")\n",
    "\n",
    "fig.text(0.5, 0.0001, 'Pruning Percentage (%)', ha='center')\n",
    "fig.tight_layout()\n",
    "plt.savefig(os.path.join(Path(os.path.abspath(\"\")), \"figures\", \"cnn_pruning_exps_all.pdf\"))"
   ]
  },
  {
   "cell_type": "code",
   "execution_count": null,
   "id": "6d950e93-abbe-4e30-ac55-8dfb2c33d61d",
   "metadata": {
    "tags": []
   },
   "outputs": [],
   "source": [
    "fig, (ax1, ax2, ax3) = plt.subplots(1,3, sharex= True, figsize=(12,3))\n",
    "\n",
    "int8_aucs = ax1.plot(pruning_percentages, poly_results[\"int8\"][\"aucs\"])\n",
    "float16_aucs = ax1.plot(pruning_percentages, poly_results[\"float16\"][\"aucs\"])\n",
    "\n",
    "ax1.set_ylim([0,1])\n",
    "ax1.set_ylabel(\"AUC Score\")\n",
    "ax1.legend([int8_aucs, float16_aucs], labels = [\"Int8\", \"Float16\"])\n",
    "\n",
    "int8_size = ax2.plot(pruning_percentages, poly_results[\"int8\"][\"size\"])\n",
    "float16_size = ax2.plot(pruning_percentages, poly_results[\"float16\"][\"size\"])\n",
    "ax2.set_ylabel(\"Gzipped Model Size (MB)\")\n",
    "ax2.legend([int8_size, float16_size], labels = [\"Int8\", \"Float16\"])\n",
    "\n",
    "\n",
    "int8_inf = ax3.plot(pruning_percentages, np.array(poly_results[\"int8\"][\"inf_time\"])*1000)\n",
    "float16_inf = ax3.plot(pruning_percentages, np.array(poly_results[\"float16\"][\"inf_time\"])*1000)\n",
    "ax3.set_ylabel(\"Inference Time (ms)\")\n",
    "ax3.legend([int8_inf, float16_inf], labels = [\"Int8\", \"Float16\"])\n",
    "\n",
    "fig.text(0.5, 0.0001, 'Pruning Percentage (%)', ha='center')\n",
    "fig.tight_layout()\n",
    "fig.show()\n",
    "plt.savefig(os.path.join(Path(os.path.abspath(\"\")), \"figures\", \"cnn_quant_exps_all.pdf\"))"
   ]
  },
  {
   "attachments": {},
   "cell_type": "markdown",
   "id": "ad24bdec",
   "metadata": {},
   "source": [
    "## Print strings for LateX table"
   ]
  },
  {
   "cell_type": "code",
   "execution_count": null,
   "id": "999a0e2c-ceb8-44de-8176-c38f3e3a6c3d",
   "metadata": {
    "tags": []
   },
   "outputs": [],
   "source": [
    "# Sparsity & AUC & Compressed Model Size (MB) & Inference Time (s) & 8-Bit  Model Size & 8-Bit Inference Time & 16-Bit Model Size & 16-Bit Inference Time \\\\\n",
    "sorted_results = dict()\n",
    "\n",
    "for key in sorted(const_res_temp):\n",
    "    sorted_results[key] = const_res_temp[key]\n",
    "\n",
    "\n",
    "for percent, results in sorted_results.items():\n",
    "    auc = results[\"default\"][\"auc\"]\n",
    "    cms = results[\"default\"][\"size\"]\n",
    "    it = results[\"default\"][\"inf_time\"] * 1000\n",
    "    auc8 = results[\"int8\"][\"auc\"] \n",
    "    cms8 = results[\"int8\"][\"size\"] \n",
    "    it8 = results[\"int8\"][\"inf_time\"] * 1000\n",
    "    auc16 = results[\"float16\"][\"auc\"]\n",
    "    cms16 = results[\"float16\"][\"size\"]\n",
    "    it16 = results[\"float16\"][\"inf_time\"] * 1000\n",
    "    string_to_output = f\"{float(percent)*100:.1f} & {auc:.3f} & {auc8:.3f} & {auc16:.3f} & {cms:.3f} & {cms8:.3f}  & {cms16:.3f}  & {it:.4f} & {it8:.4f}   & {it16:.4f} \\\\\\\\\"\n",
    "    print(string_to_output)"
   ]
  },
  {
   "cell_type": "code",
   "execution_count": null,
   "id": "abc993f3-e078-41b5-b1a1-94e7e5a7cbf0",
   "metadata": {
    "tags": []
   },
   "outputs": [],
   "source": [
    "sorted_results = dict()\n",
    "\n",
    "for key in sorted(const_res_temp):\n",
    "    sorted_results[key] = poly_results_temp[key]\n",
    "for percent, results in sorted_results.items():\n",
    "    auc = results[\"default\"][\"auc\"]\n",
    "    cms = results[\"default\"][\"size\"]\n",
    "    it = results[\"default\"][\"inf_time\"] * 1000\n",
    "    auc8 = results[\"int8\"][\"auc\"] \n",
    "    cms8 = results[\"int8\"][\"size\"] \n",
    "    it8 = results[\"int8\"][\"inf_time\"] * 1000\n",
    "    auc16 = results[\"float16\"][\"auc\"]\n",
    "    cms16 = results[\"float16\"][\"size\"]\n",
    "    it16 = results[\"float16\"][\"inf_time\"] * 1000\n",
    "    string_to_output = f\"{float(percent)*100:.1f} & {auc:.3f} & {auc8:.3f} & {auc16:.3f} & {cms:.3f} & {cms8:.3f}  & {cms16:.3f}  & {it:.4f} & {it8:.4f}   & {it16:.4f} \\\\\\\\\"\n",
    "    print(string_to_output)"
   ]
  }
 ],
 "metadata": {
  "kernelspec": {
   "display_name": "Python 3 (ipykernel)",
   "language": "python",
   "name": "python3"
  },
  "language_info": {
   "codemirror_mode": {
    "name": "ipython",
    "version": 3
   },
   "file_extension": ".py",
   "mimetype": "text/x-python",
   "name": "python",
   "nbconvert_exporter": "python",
   "pygments_lexer": "ipython3",
   "version": "3.9.13"
  }
 },
 "nbformat": 4,
 "nbformat_minor": 5
}
