{
 "cells": [
  {
   "attachments": {},
   "cell_type": "markdown",
   "id": "88f93377",
   "metadata": {},
   "source": [
    "# Coswara data augmentation notebook\n",
    "\n",
    "This notebook is used to augment the extracted Coswara data (see the [Coswara 1 notebook](./coswara_1_data_extraction.ipynb)). In the original paper, the details of the augmentation configurations is not discussed nor is it documentet in the [GitHub repo](https://github.com/Saranga7/covid19--cough-diagnosis) of the authors. The GitHub repo contains the final augmentation configuration which is used in this notebook, along with a slightly modified configuration of it using the default parameters for the `TimeStretch` augmentation function.\n",
    "\n",
    "Overall, each of the `Covid-19 positive` instances are augmented with 2 augmentation configuration and saved, to push the class balance to close to 1:1. At this stage, any empty recording is removed."
   ]
  },
  {
   "cell_type": "code",
   "execution_count": null,
   "id": "77fc0a29-894a-4d60-b540-8132a030647f",
   "metadata": {},
   "outputs": [],
   "source": [
    "import os\n",
    "import librosa\n",
    "import librosa.display\n",
    "\n",
    "import IPython.display as ipd\n",
    "\n",
    "from tqdm import tqdm\n",
    "from scipy.io.wavfile import write\n",
    "\n",
    "import matplotlib.pyplot as plt\n",
    "import numpy as np\n",
    "\n",
    "from audiomentations import Compose, TimeStretch, PitchShift, Shift, Trim, Gain, PolarityInversion"
   ]
  },
  {
   "cell_type": "code",
   "execution_count": null,
   "id": "1f3c3ab5-ad13-44a4-8901-6c3325e531ca",
   "metadata": {},
   "outputs": [],
   "source": [
    "# Original data augmentation configuration from the Brogrammer's git repo\n",
    "augment1 = Compose([\n",
    "    TimeStretch(min_rate=0.7, max_rate=1.4, p=0.9),\n",
    "    PitchShift(min_semitones=-2, max_semitones=4, p=1),\n",
    "    Shift(min_fraction=-0.5, max_fraction=0.5, p=0.8),\n",
    "    Trim(p=1),Gain(p=1),\n",
    "    PolarityInversion(p=0.8)   \n",
    "    ])\n",
    "\n",
    "# Same augmentation configuration with TimeStretch parameters set to default\n",
    "augment2 = Compose([\n",
    "    TimeStretch(min_rate=0.8, max_rate=1.25, p=0.5),\n",
    "    PitchShift(min_semitones=-2, max_semitones=4, p=1),\n",
    "    Shift(min_fraction=-0.5, max_fraction=0.5, p=0.8),\n",
    "    Trim(p=1),Gain(p=1),\n",
    "    PolarityInversion(p=0.8)   \n",
    "    ])"
   ]
  },
  {
   "cell_type": "code",
   "execution_count": null,
   "id": "089a3900-e234-4318-bfaf-e887ccaa8ea5",
   "metadata": {},
   "outputs": [],
   "source": [
    "dataset_path = '../../../Coswara-Data/data/shallow/p'\n",
    "write_path = '../../../Coswara-Data/data/shallow/augmented_p_data/'"
   ]
  },
  {
   "cell_type": "code",
   "execution_count": null,
   "id": "b4a37604-6b32-45ed-b404-c9e00e426189",
   "metadata": {},
   "outputs": [],
   "source": [
    "sr=22050\n",
    "\n",
    "for i, (dirpath, dirnames, filenames) in enumerate(os.walk(dataset_path)):\n",
    "    print('Processing ', dirpath.split(\"/\")[-1])\n",
    "    j=0\n",
    "    for f in tqdm(filenames):\n",
    "        try:\n",
    "            fpath=os.path.join(dirpath,f)\n",
    "            #print(fpath)\n",
    "            data,_=librosa.load(fpath,sr=sr)\n",
    "\n",
    "            # First augmentation\n",
    "            data=augment1(data,sr)\n",
    "            write(write_path+str(j)+'.wav',22050,data)\n",
    "            j+=1\n",
    "            \n",
    "            # Second augmentation\n",
    "            data=augment2(data,sr)\n",
    "            write(write_path+str(j)+'.wav',22050,data)\n",
    "            j+=1\n",
    "            \n",
    "        except:\n",
    "            continue"
   ]
  }
 ],
 "metadata": {
  "kernelspec": {
   "display_name": "Python 3 (ipykernel)",
   "language": "python",
   "name": "python3"
  },
  "language_info": {
   "codemirror_mode": {
    "name": "ipython",
    "version": 3
   },
   "file_extension": ".py",
   "mimetype": "text/x-python",
   "name": "python",
   "nbconvert_exporter": "python",
   "pygments_lexer": "ipython3",
   "version": "3.9.13"
  }
 },
 "nbformat": 4,
 "nbformat_minor": 5
}
