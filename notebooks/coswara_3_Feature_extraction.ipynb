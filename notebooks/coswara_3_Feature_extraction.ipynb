{
 "cells": [
  {
   "attachments": {},
   "cell_type": "markdown",
   "id": "add233fd",
   "metadata": {},
   "source": [
    "# Feature extraction from Coswara dataset\n",
    "\n",
    "In this notebook the first 15 MFCCs are extraced from the augmented Coswara dataset (see the [Coswara 2 notebook](./coswara_2_data_augmentation.ipynb)). The extraced features are saved in a JSON file along with the label. The augmented positive instances are labeled `augmented_p_data` and need to be relabeled at the data loading stage. The saved features can be loaded an prepared for later usage using the following data loader function:\n",
    "\n",
    "```Python\n",
    "import json\n",
    "import numpy as np\n",
    "from typing import Tuple\n",
    "\n",
    "def load_data(data_path:str) -> Tuple[np.ndarray, np.ndarray]:\n",
    "    '''\n",
    "        Function to load dataset and label from JSON file and do necessary preprocessing.\n",
    "\n",
    "        Parameters:\n",
    "            data_path: String corresonding to the path to the saved JSON file to be loaded.\n",
    "\n",
    "        Returns:\n",
    "            A tuple with 2 NumPy N dimensional array with the features and the binary encoded labels. \n",
    "    '''\n",
    "    \n",
    "    with open(data_path, 'r') as f:\n",
    "        data = json.load(f)\n",
    "    \n",
    "    # Extract labels and MFCCs\n",
    "    X = np.array(data['mfcc'])\n",
    "    y = np.array(data['label'])\n",
    "    \n",
    "    X = X.reshape(X.shape[0], -1, 15, 1)\n",
    "    \n",
    "    # Encode labels\n",
    "    y[y=='p'] = 1\n",
    "    y[y=='n'] = 0\n",
    "    y[y=='augmented_p_data'] = 1\n",
    "    y = y.astype(np.int32)\n",
    "    \n",
    "    return X, y\n",
    "```"
   ]
  },
  {
   "cell_type": "code",
   "execution_count": null,
   "id": "99b8a9c3-29b9-48d5-9843-78b99029ff6a",
   "metadata": {},
   "outputs": [],
   "source": [
    "import re\n",
    "import os\n",
    "import glob\n",
    "import librosa\n",
    "import json\n",
    "from tqdm import tqdm\n",
    "import pandas as pd"
   ]
  },
  {
   "cell_type": "code",
   "execution_count": null,
   "id": "7b0917e9-f10c-4b89-8d2a-d9721da8cfbe",
   "metadata": {},
   "outputs": [],
   "source": [
    "# Path to Extraced_data folder\n",
    "data_dir = '../../../Coswara-Data/data'\n",
    "\n",
    "# Data collection parameters\n",
    "suffix = 'shallow'\n",
    "recording_regex = r'*/*.wav'\n",
    "search_path = os.path.join(data_dir, suffix, recording_regex)"
   ]
  },
  {
   "cell_type": "code",
   "execution_count": null,
   "id": "fb58a066-e564-4b4b-98c5-8ecff4c2dc0d",
   "metadata": {},
   "outputs": [],
   "source": [
    "# Collect paths to recordings to analyse\n",
    "paths = glob.glob(search_path)\n",
    "len(paths)"
   ]
  },
  {
   "cell_type": "code",
   "execution_count": null,
   "id": "0041cf01-e1fc-44ce-8aae-e1ccefb92ae9",
   "metadata": {},
   "outputs": [],
   "source": [
    "# Sanity check for correct files gathered\n",
    "paths[0]"
   ]
  },
  {
   "cell_type": "code",
   "execution_count": null,
   "id": "9580e84f-e95b-42b4-b2ca-9be0ce91d0ba",
   "metadata": {
    "tags": []
   },
   "outputs": [],
   "source": [
    "# Extracting MFCCs\n",
    "duration = 7\n",
    "sample_rate = 22050\n",
    "\n",
    "data = {\n",
    "    'mfcc': [],\n",
    "    'label': []\n",
    "    }\n",
    "    \n",
    "for path in tqdm(paths):\n",
    "    try:\n",
    "        y, sr = librosa.load(path, sr=sample_rate)\n",
    "        y = librosa.util.fix_length(y, size=sample_rate * duration)\n",
    "        mfcc = librosa.feature.mfcc(y=y, n_mfcc=15, n_fft=2048, hop_length=512)\n",
    "        mfcc = mfcc.T\n",
    "        \n",
    "        label = re.split(r'/|\\\\', path)[-2]\n",
    "        \n",
    "        data['mfcc'].append(mfcc.tolist())\n",
    "        data['label'].append(label)\n",
    "        \n",
    "    except:\n",
    "        continue"
   ]
  },
  {
   "cell_type": "code",
   "execution_count": null,
   "id": "5beedcae-8fbd-453e-aa81-48899e59694c",
   "metadata": {},
   "outputs": [],
   "source": [
    "# Save features in a JSON file\n",
    "json_path = os.path.join(data_dir, suffix, f'{suffix}_mfcc15_augdata.json')\n",
    "\n",
    "with open(json_path, 'w') as fp:\n",
    "    json.dump(data, fp, indent=4)"
   ]
  }
 ],
 "metadata": {
  "kernelspec": {
   "display_name": "Python 3 (ipykernel)",
   "language": "python",
   "name": "python3"
  },
  "language_info": {
   "codemirror_mode": {
    "name": "ipython",
    "version": 3
   },
   "file_extension": ".py",
   "mimetype": "text/x-python",
   "name": "python",
   "nbconvert_exporter": "python",
   "pygments_lexer": "ipython3",
   "version": "3.9.13"
  }
 },
 "nbformat": 4,
 "nbformat_minor": 5
}
