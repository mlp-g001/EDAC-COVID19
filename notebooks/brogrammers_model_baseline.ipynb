{
 "cells": [
  {
   "cell_type": "code",
   "execution_count": null,
   "id": "67fa9146-0872-4c1b-8ff1-45370ea28938",
   "metadata": {},
   "outputs": [],
   "source": [
    "import json\n",
    "import numpy as np\n",
    "import matplotlib.pyplot as plt\n",
    "import seaborn as sns\n",
    "import pandas as pd\n",
    "from typing import Tuple\n",
    "\n",
    "import tensorflow as tf\n",
    "from tensorflow.keras import Sequential\n",
    "from tensorflow.keras.layers import Flatten, Dense, Dropout, BatchNormalization, Conv2D, MaxPool2D\n",
    "from tensorflow.keras.optimizers import Adam\n",
    "from tensorflow.keras.regularizers import L1, L2, L1L2\n",
    "\n",
    "from sklearn.model_selection import train_test_split, StratifiedKFold\n",
    "from sklearn.metrics import confusion_matrix, roc_auc_score, roc_curve\n",
    "\n",
    "import seaborn as sns\n",
    "sns.set_context(\"paper\")\n",
    "sns.set_style(\"darkgrid\")"
   ]
  },
  {
   "cell_type": "markdown",
   "id": "a60d9f29-3647-4be4-b5c9-54e9ef848de2",
   "metadata": {},
   "source": [
    "### Load data"
   ]
  },
  {
   "cell_type": "code",
   "execution_count": null,
   "id": "10f056fa",
   "metadata": {},
   "outputs": [],
   "source": [
    "def load_data(data_path:str) -> Tuple[np.ndarray, np.ndarray]:\n",
    "    '''\n",
    "        Function to load dataset and label from JSON file and do necessary preprocessing.\n",
    "\n",
    "        Parameters:\n",
    "            data_path: String corresonding to the path to the saved JSON file to be loaded.\n",
    "\n",
    "        Returns:\n",
    "            A tuple with 2 NumPy N dimensional array with the features and the binary encoded labels. \n",
    "    '''\n",
    "    \n",
    "    with open(data_path, 'r') as f:\n",
    "        data = json.load(f)\n",
    "    \n",
    "    # Extract labels and MFCCs\n",
    "    X = np.array(data['mfcc'])\n",
    "    y = np.array(data['label'])\n",
    "    \n",
    "    X = X.reshape(X.shape[0], -1, 15, 1)\n",
    "    \n",
    "    # Encode labels\n",
    "    y[y=='p'] = 1\n",
    "    y[y=='n'] = 0\n",
    "    y[y=='augmented_p_data'] = 1\n",
    "    y = y.astype(np.int32)\n",
    "    \n",
    "    return X, y"
   ]
  },
  {
   "cell_type": "code",
   "execution_count": null,
   "id": "ebaf88d5-1b39-462c-833e-372cc4f2c406",
   "metadata": {},
   "outputs": [],
   "source": [
    "data_path = '../../Coswara-Data/data/shallow/shallow_mfcc15_augdata.json'\n",
    "X, y = load_data(data_path)\n",
    "X.shape, y.shape"
   ]
  },
  {
   "cell_type": "markdown",
   "id": "4322a241-db53-4636-8d78-dd8e9fc06608",
   "metadata": {},
   "source": [
    "### Split data"
   ]
  },
  {
   "cell_type": "code",
   "execution_count": null,
   "id": "538b0cd3-04af-49d6-a632-f9bb62b622b5",
   "metadata": {},
   "outputs": [],
   "source": [
    "X_train, X_valid, y_train, y_valid = train_test_split(X, y, test_size=0.2, stratify=y, random_state=7)"
   ]
  },
  {
   "cell_type": "code",
   "execution_count": null,
   "id": "bd3b70e2-a982-4e5b-ac52-19be80d81f4b",
   "metadata": {},
   "outputs": [],
   "source": [
    "X_train.shape, y_train.shape, X_valid.shape, y_valid.shape"
   ]
  },
  {
   "cell_type": "markdown",
   "id": "e3dea789-467d-408f-b402-f57ae896ba6e",
   "metadata": {},
   "source": [
    "### Construct model"
   ]
  },
  {
   "cell_type": "code",
   "execution_count": null,
   "id": "a4fa0e0a-af29-41f9-8a23-7325d2376988",
   "metadata": {},
   "outputs": [],
   "source": [
    "model = Sequential()\n",
    "\n",
    "model.add(Conv2D(64, (3, 3), strides=(1, 1), activation='relu', padding='valid', input_shape=(302, 15, 1)))\n",
    "model.add(MaxPool2D(pool_size=(2, 2)))\n",
    "\n",
    "model.add(Conv2D(32, (2, 2), strides=(1, 1), activation='relu', padding='valid'))\n",
    "model.add(BatchNormalization())\n",
    "\n",
    "model.add(Flatten())\n",
    "\n",
    "model.add(Dense(256, activation='relu',\n",
    "                kernel_regularizer=L1L2(l1=3e-4, l2=4e-3),\n",
    "                bias_regularizer=L2(3e-3),\n",
    "                activity_regularizer=L2(3e-4)))\n",
    "model.add(Dropout(0.5))\n",
    "\n",
    "model.add(Dense(128, activation='relu',\n",
    "                kernel_regularizer=L1L2(l1=1e-3, l2=1e-2),\n",
    "                bias_regularizer=L2(1e-2),\n",
    "                activity_regularizer=L2(1e-3)))\n",
    "model.add(Dropout(0.3))\n",
    "\n",
    "model.add(Dense(1, activation='sigmoid'))"
   ]
  },
  {
   "cell_type": "code",
   "execution_count": null,
   "id": "137003ee-7ae9-4968-ab67-8cd548db5432",
   "metadata": {},
   "outputs": [],
   "source": [
    "model.summary()"
   ]
  },
  {
   "cell_type": "code",
   "execution_count": null,
   "id": "33520d4e-a92a-4d7b-8eb2-1530bbe27c2e",
   "metadata": {},
   "outputs": [],
   "source": [
    "model.compile(optimizer=Adam(learning_rate=0.0001),\n",
    "              loss='binary_crossentropy',\n",
    "              metrics=['accuracy'])"
   ]
  },
  {
   "cell_type": "code",
   "execution_count": null,
   "id": "756ecfd8-58fe-4b34-bd56-ba1c8fe5efbc",
   "metadata": {
    "scrolled": true,
    "tags": []
   },
   "outputs": [],
   "source": [
    "callbacks = [tf.keras.callbacks.EarlyStopping(monitor='val_loss', patience=10)]\n",
    "history = model.fit(X_train, y_train, batch_size=32, epochs=20, validation_data=(X_valid, y_valid), callbacks=callbacks, verbose=0)"
   ]
  },
  {
   "cell_type": "code",
   "execution_count": null,
   "id": "010847de-b090-4d70-905f-b83efc508945",
   "metadata": {},
   "outputs": [],
   "source": [
    "def plot_learningCurve(history):\n",
    "  # Plot training & validation accuracy values\n",
    "    epochs = len(history.history['accuracy'])\n",
    "    epoch_range = range(1, epochs+1)\n",
    "    plt.plot(epoch_range, history.history['accuracy'])\n",
    "    plt.plot(epoch_range, history.history['val_accuracy'])\n",
    "    plt.title('Model accuracy', fontsize=20)\n",
    "    plt.ylabel('Accuracy', fontsize=14)\n",
    "    plt.xlabel('Epoch', fontsize=14)\n",
    "    plt.legend(['Train', 'Val'], loc='upper right')\n",
    "    # plt.savefig('../figures/brogrammer_train_acc.pdf')\n",
    "    # plt.savefig('../figures/brogrammer_train_acc.png')\n",
    "    plt.show()\n",
    "\n",
    "    # Plot training & validation loss values\n",
    "    plt.plot(epoch_range, history.history['loss'])\n",
    "    plt.plot(epoch_range, history.history['val_loss'])\n",
    "    plt.title('Model loss', fontsize=20)\n",
    "    plt.ylabel('Loss', fontsize=14)\n",
    "    plt.xlabel('Epoch', fontsize=14)\n",
    "    plt.legend(['Train', 'Val'], loc='upper right')\n",
    "    plt.tight_layout()\n",
    "    # plt.savefig('../figures/brogrammer_train_loss.pdf')\n",
    "    # plt.savefig('../figures/brogrammer_train_loss.png')\n",
    "    plt.show()"
   ]
  },
  {
   "cell_type": "code",
   "execution_count": null,
   "id": "56c88921-1450-40a9-b829-ce5190ed1514",
   "metadata": {},
   "outputs": [],
   "source": [
    "plot_learningCurve(history)"
   ]
  },
  {
   "cell_type": "code",
   "execution_count": null,
   "id": "ba9a5beb-1149-4d32-a893-077e8ace7a03",
   "metadata": {},
   "outputs": [],
   "source": [
    "# Save model weights\n",
    "model.save('brogrammers.h5', save_format='h5')"
   ]
  },
  {
   "cell_type": "code",
   "execution_count": null,
   "id": "25d2d17f-5553-45ed-a943-54042a588d52",
   "metadata": {},
   "outputs": [],
   "source": [
    "loss, acc = model.evaluate(X_valid, y_valid, verbose=0)\n",
    "print(f'Validation loss: {loss:.4f}')\n",
    "print(f'Validation accuracy: {acc:.4f}')"
   ]
  },
  {
   "cell_type": "code",
   "execution_count": null,
   "id": "b42d1fc2-40d8-48ab-beee-a3a9fb58253d",
   "metadata": {},
   "outputs": [],
   "source": [
    "y_pred = (model.predict(X_valid, verbose=0) > 0.5).astype(int)"
   ]
  },
  {
   "cell_type": "code",
   "execution_count": null,
   "id": "d523061f-2fdd-4d69-9232-5f923eab409f",
   "metadata": {},
   "outputs": [],
   "source": [
    "cf_matrix = confusion_matrix(y_valid, y_pred)\n",
    "ax = sns.heatmap(cf_matrix, annot=True, fmt='')"
   ]
  },
  {
   "cell_type": "code",
   "execution_count": null,
   "id": "8d741c30-32c7-4a92-a320-cd89ebae6078",
   "metadata": {},
   "outputs": [],
   "source": [
    "final_cm = np.array([[cf_matrix[1, 1], cf_matrix[1, 0]],\n",
    "                     [cf_matrix[0, 1], cf_matrix[0, 0]]])\n",
    "df_cm = pd.DataFrame(final_cm, index = [i for i in ['COVID','NON-COVID']],\n",
    "                     columns = [i for i in ['COVID','NON-COVID']]\n",
    "                     )\n",
    "plt.figure(figsize = (10,7))\n",
    "sns.set(font_scale=1.4) # for label size\n",
    "sns.heatmap(df_cm.transpose(), annot=True, annot_kws={\"size\": 16},fmt='.3g') # font size\n",
    "\n",
    "plt.title('Confusion Matrix', fontsize=20)\n",
    "plt.xlabel('PREDICTED')\n",
    "plt.ylabel('TRUE')\n",
    "plt.tight_layout()\n",
    "# plt.savefig('../figures/confusion_matrix.pdf', dpi=577)\n",
    "# plt.savefig('../figures/confusion_matrix.png', dpi=577)\n",
    "\n",
    "plt.show()"
   ]
  },
  {
   "cell_type": "code",
   "execution_count": null,
   "id": "1a76be1c-0cbf-4c3d-bc92-f6de8794a250",
   "metadata": {},
   "outputs": [],
   "source": [
    "y_pred = model.predict(X_valid)\n",
    "fpr, tpr, thresholds = roc_curve(y_valid, y_pred)\n",
    "auc = roc_auc_score(y_valid, y_pred)\n",
    "plt.plot(fpr, tpr, label=f'AUC={auc:.4f}')\n",
    "plt.title('ROC Curve', fontsize=20)\n",
    "plt.ylabel('True Positive Rate')\n",
    "plt.xlabel('False Positive Rate')\n",
    "plt.legend(loc=4)\n",
    "plt.tight_layout()\n",
    "# plt.savefig('../figures/roc_curve.pdf')\n",
    "# plt.savefig('../figures/roc_curve.png')"
   ]
  }
 ],
 "metadata": {
  "kernelspec": {
   "display_name": "Python (pdiot)",
   "language": "python",
   "name": "pdiot"
  },
  "language_info": {
   "codemirror_mode": {
    "name": "ipython",
    "version": 3
   },
   "file_extension": ".py",
   "mimetype": "text/x-python",
   "name": "python",
   "nbconvert_exporter": "python",
   "pygments_lexer": "ipython3",
   "version": "3.7.13"
  }
 },
 "nbformat": 4,
 "nbformat_minor": 5
}
