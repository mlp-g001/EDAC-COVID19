{
 "cells": [
  {
   "attachments": {},
   "cell_type": "markdown",
   "id": "bf11a8dc",
   "metadata": {},
   "source": [
    "### CoughVid dataset generation\n",
    "\n",
    "Notebook to generate the CoughVid dataset for the attention based CNN-LSTM model. The code written here assumes that the [pitch_shift.py](../scripts/pitch_shift.py) and [spec_augment.py](../scripts/spec_augment.py) scripts were already run in this order. The data sets generated and saved here are directly used for the training of the attention based CNN-LSTM baseline model."
   ]
  },
  {
   "cell_type": "code",
   "execution_count": null,
   "id": "d5947ab7-48cc-42fd-a01b-4162379f49e8",
   "metadata": {},
   "outputs": [],
   "source": [
    "import os\n",
    "import cv2\n",
    "import numpy as np\n",
    "import pandas as pd\n",
    "from tqdm import tqdm\n",
    "from sklearn.utils import shuffle\n",
    "from sklearn.model_selection import train_test_split, KFold"
   ]
  },
  {
   "cell_type": "code",
   "execution_count": null,
   "id": "13d645d4-6f3a-4700-9d60-4d225022016e",
   "metadata": {},
   "outputs": [],
   "source": [
    "path = '../coughvid-clean-silence-removed/augmented_melspectrogram'\n",
    "names = sorted(os.listdir(path), key=lambda x: int(os.path.splitext(x)[0]))\n",
    "imgArraySize = (88, 39)"
   ]
  },
  {
   "cell_type": "code",
   "execution_count": null,
   "id": "4cbaa334-13e3-4ca9-8bc4-93e2b7259b59",
   "metadata": {},
   "outputs": [],
   "source": [
    "# Loading Images\n",
    "images = []\n",
    "for filename in tqdm(names):\n",
    "    img = cv2.imread(os.path.join(path,filename))\n",
    "    img = cv2.resize(img,imgArraySize)\n",
    "    img = cv2.cvtColor(img, cv2.COLOR_BGR2RGB)\n",
    "    img = np.asarray(img,dtype=np.float32)\n",
    "    img = img/225.0\n",
    "    if img is not None:\n",
    "        images.append(img)\n",
    "\n",
    "images = np.squeeze(images)"
   ]
  },
  {
   "cell_type": "code",
   "execution_count": null,
   "id": "b68a81f5-be41-4662-9148-d5735dc41e38",
   "metadata": {},
   "outputs": [],
   "source": [
    "# Loading Labels\n",
    "labels_path = '../coughvid-clean-silence-removed/labels.csv'\n",
    "labels = pd.read_csv(labels_path)\n",
    "covid_status = labels[\"label\"]\n",
    "covid_status = np.asarray(covid_status)"
   ]
  },
  {
   "cell_type": "code",
   "execution_count": null,
   "id": "f9579e84-fe5c-4833-bcad-66bd00399f6e",
   "metadata": {},
   "outputs": [],
   "source": [
    "# Save images and labels without shuffling\n",
    "features = {\n",
    "    'images': images,\n",
    "    'covid_status': covid_status\n",
    "}\n",
    "\n",
    "data_dir = '../coughvid_melspec'\n",
    "features_path = os.path.join(data_dir, 'coughvid_melspec.npz')\n",
    "np.savez(features_path, **features)"
   ]
  },
  {
   "cell_type": "code",
   "execution_count": null,
   "id": "61231aee-91ac-4348-80ff-f91159f690c4",
   "metadata": {},
   "outputs": [],
   "source": [
    "# Load saved features and labels\n",
    "feature_path = os.path.join(data_dir, 'coughvid_melspec.npz')\n",
    "features = np.load(features_path)\n",
    "images = features['images']\n",
    "covid_status = features['covid_status']"
   ]
  },
  {
   "cell_type": "code",
   "execution_count": null,
   "id": "78ceabad-22a3-4e5a-a090-0dae41b16fe1",
   "metadata": {},
   "outputs": [],
   "source": [
    "# Create splits\n",
    "np.random.seed(75)\n",
    "images, covid_status = shuffle(images, covid_status, random_state=75)\n",
    "X_train, X_test, y_train, y_test = train_test_split(images, covid_status, test_size=0.2, shuffle=True)\n",
    "X_train, X_valid, y_train, y_valid = train_test_split(X_train, y_train, test_size=0.25, shuffle=True)"
   ]
  },
  {
   "cell_type": "code",
   "execution_count": null,
   "id": "31e92059-1cc8-484c-bed6-61b7a0cacfab",
   "metadata": {},
   "outputs": [],
   "source": [
    "X_train.shape, y_train.shape, X_valid.shape, y_valid.shape, X_test.shape, y_test.shape"
   ]
  },
  {
   "cell_type": "code",
   "execution_count": null,
   "id": "5540bb31-facb-487b-8cfc-440402584113",
   "metadata": {},
   "outputs": [],
   "source": [
    "# Save sets\n",
    "def save_set(data_dir, set_name, images, covid_status):\n",
    "    features = {\n",
    "        'images': images,\n",
    "        'covid_status': covid_status        \n",
    "    }\n",
    "\n",
    "    features_path = os.path.join(data_dir, f'{set_name}_coughvid_melspec.npz')\n",
    "    np.savez(features_path, **features)\n",
    "    \n",
    "save_set(data_dir, 'train', X_train, y_train)\n",
    "save_set(data_dir, 'valid', X_valid, y_valid)\n",
    "save_set(data_dir, 'test', X_test, y_test)"
   ]
  }
 ],
 "metadata": {
  "kernelspec": {
   "display_name": "Python 3 (ipykernel)",
   "language": "python",
   "name": "python3"
  },
  "language_info": {
   "codemirror_mode": {
    "name": "ipython",
    "version": 3
   },
   "file_extension": ".py",
   "mimetype": "text/x-python",
   "name": "python",
   "nbconvert_exporter": "python",
   "pygments_lexer": "ipython3",
   "version": "3.9.13"
  }
 },
 "nbformat": 4,
 "nbformat_minor": 5
}
